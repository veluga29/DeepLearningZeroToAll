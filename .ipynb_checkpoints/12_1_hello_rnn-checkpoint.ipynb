{
 "cells": [
  {
   "cell_type": "code",
   "execution_count": 1,
   "metadata": {},
   "outputs": [],
   "source": [
    "import numpy as np\n",
    "import tensorflow as tf"
   ]
  },
  {
   "cell_type": "code",
   "execution_count": 2,
   "metadata": {},
   "outputs": [],
   "source": [
    "# Teach hello: hihell -> ihello\n",
    "idx2char = ['h', 'i', 'e', 'l', 'o']\n",
    "# x_data = [[0, 1, 0, 2, 3, 3]]  # hihell\n",
    "y_data = [[1, 0, 2, 3, 3, 4]]  # ihello"
   ]
  },
  {
   "cell_type": "code",
   "execution_count": 3,
   "metadata": {},
   "outputs": [],
   "source": [
    "num_classes = 5  # = hidden size\n",
    "input_dim = 5  # one-hot 인코딩의 사이즈\n",
    "sequence_length = 6  # 입력으로 넣는 문자열 수\n",
    "learning_rate = 0.1"
   ]
  },
  {
   "cell_type": "code",
   "execution_count": 4,
   "metadata": {},
   "outputs": [],
   "source": [
    "x_one_hot = np.array([[[1, 0, 0, 0, 0],    # h 0\n",
    "                       [0, 1, 0, 0, 0],    # i 1\n",
    "                       [1, 0, 0, 0, 0],    # h 0\n",
    "                       [0, 0, 1, 0, 0],    # e 2\n",
    "                       [0, 0, 0, 1, 0],    # l 3\n",
    "                       [0, 0, 0, 1, 0]]],  # l 3\n",
    "                     dtype=np.float32)"
   ]
  },
  {
   "cell_type": "code",
   "execution_count": 5,
   "metadata": {},
   "outputs": [
    {
     "name": "stdout",
     "output_type": "stream",
     "text": [
      "(1, 6, 5)\n",
      "(1, 6, 5)\n"
     ]
    }
   ],
   "source": [
    "y_one_hot = tf.keras.utils.to_categorical(y_data, num_classes=num_classes)\n",
    "print(x_one_hot.shape)\n",
    "print(y_one_hot.shape)"
   ]
  },
  {
   "cell_type": "code",
   "execution_count": 6,
   "metadata": {},
   "outputs": [],
   "source": [
    "tf.model = tf.keras.Sequential()"
   ]
  },
  {
   "cell_type": "code",
   "execution_count": 7,
   "metadata": {},
   "outputs": [],
   "source": [
    "# Cell을 만들어 RNN layer에 추가\n",
    "# input_shape = (1, 6, 5) => batch = 1, sequence length = 6, input_dim = 5\n",
    "cell = tf.keras.layers.LSTMCell(units=num_classes, input_shape=(sequence_length, input_dim))\n",
    "tf.model.add(tf.keras.layers.RNN(cell=cell, return_sequences=True))"
   ]
  },
  {
   "cell_type": "code",
   "execution_count": 8,
   "metadata": {},
   "outputs": [],
   "source": [
    "# LSTM Cell을 사용하지 않고 단순한 LSTM layer로도 같은 결과를 만들 수 있음\n",
    "# tf.model.add(tf.keras.layers.LSTM(units=num_classes, input_shape=(sequence_length, input_dim), return_sequences=True))"
   ]
  },
  {
   "cell_type": "code",
   "execution_count": 9,
   "metadata": {},
   "outputs": [],
   "source": [
    "# fully connected layer\n",
    "tf.model.add(tf.keras.layers.TimeDistributed(tf.keras.layers.Dense(units=num_classes, activation='softmax')))"
   ]
  },
  {
   "cell_type": "code",
   "execution_count": 10,
   "metadata": {},
   "outputs": [],
   "source": [
    "tf.model.compile(loss='categorical_crossentropy', optimizer=tf.keras.optimizers.Adam(lr=learning_rate),\n",
    "                 metrics=['accuracy'])"
   ]
  },
  {
   "cell_type": "code",
   "execution_count": 11,
   "metadata": {},
   "outputs": [
    {
     "name": "stdout",
     "output_type": "stream",
     "text": [
      "Train on 1 samples\n",
      "Epoch 1/50\n",
      "1/1 [==============================] - 4s 4s/sample - loss: 1.5587 - accuracy: 0.3333\n",
      "Epoch 2/50\n",
      "1/1 [==============================] - 0s 18ms/sample - loss: 1.4178 - accuracy: 0.3333\n",
      "Epoch 3/50\n",
      "1/1 [==============================] - 0s 18ms/sample - loss: 1.3101 - accuracy: 0.3333\n",
      "Epoch 4/50\n",
      "1/1 [==============================] - 0s 23ms/sample - loss: 1.1876 - accuracy: 0.5000\n",
      "Epoch 5/50\n",
      "1/1 [==============================] - 0s 20ms/sample - loss: 1.0410 - accuracy: 0.5000\n",
      "Epoch 6/50\n",
      "1/1 [==============================] - 0s 21ms/sample - loss: 0.9012 - accuracy: 0.5000\n",
      "Epoch 7/50\n",
      "1/1 [==============================] - 0s 23ms/sample - loss: 0.7882 - accuracy: 0.6667\n",
      "Epoch 8/50\n",
      "1/1 [==============================] - 0s 19ms/sample - loss: 0.6850 - accuracy: 1.0000\n",
      "Epoch 9/50\n",
      "1/1 [==============================] - 0s 24ms/sample - loss: 0.5739 - accuracy: 1.0000\n",
      "Epoch 10/50\n",
      "1/1 [==============================] - 0s 25ms/sample - loss: 0.4644 - accuracy: 1.0000\n",
      "Epoch 11/50\n",
      "1/1 [==============================] - 0s 26ms/sample - loss: 0.3861 - accuracy: 1.0000\n",
      "Epoch 12/50\n",
      "1/1 [==============================] - 0s 25ms/sample - loss: 0.3204 - accuracy: 1.0000\n",
      "Epoch 13/50\n",
      "1/1 [==============================] - 0s 26ms/sample - loss: 0.2585 - accuracy: 1.0000\n",
      "Epoch 14/50\n",
      "1/1 [==============================] - 0s 26ms/sample - loss: 0.2204 - accuracy: 1.0000\n",
      "Epoch 15/50\n",
      "1/1 [==============================] - 0s 24ms/sample - loss: 0.1859 - accuracy: 1.0000\n",
      "Epoch 16/50\n",
      "1/1 [==============================] - 0s 24ms/sample - loss: 0.1441 - accuracy: 1.0000\n",
      "Epoch 17/50\n",
      "1/1 [==============================] - 0s 25ms/sample - loss: 0.1159 - accuracy: 1.0000\n",
      "Epoch 18/50\n",
      "1/1 [==============================] - 0s 25ms/sample - loss: 0.0959 - accuracy: 1.0000\n",
      "Epoch 19/50\n",
      "1/1 [==============================] - 0s 25ms/sample - loss: 0.0734 - accuracy: 1.0000\n",
      "Epoch 20/50\n",
      "1/1 [==============================] - 0s 26ms/sample - loss: 0.0558 - accuracy: 1.0000\n",
      "Epoch 21/50\n",
      "1/1 [==============================] - 0s 23ms/sample - loss: 0.0463 - accuracy: 1.0000\n",
      "Epoch 22/50\n",
      "1/1 [==============================] - 0s 25ms/sample - loss: 0.0393 - accuracy: 1.0000\n",
      "Epoch 23/50\n",
      "1/1 [==============================] - 0s 24ms/sample - loss: 0.0315 - accuracy: 1.0000\n",
      "Epoch 24/50\n",
      "1/1 [==============================] - 0s 23ms/sample - loss: 0.0252 - accuracy: 1.0000\n",
      "Epoch 25/50\n",
      "1/1 [==============================] - 0s 24ms/sample - loss: 0.0216 - accuracy: 1.0000\n",
      "Epoch 26/50\n",
      "1/1 [==============================] - 0s 24ms/sample - loss: 0.0193 - accuracy: 1.0000\n",
      "Epoch 27/50\n",
      "1/1 [==============================] - 0s 22ms/sample - loss: 0.0171 - accuracy: 1.0000\n",
      "Epoch 28/50\n",
      "1/1 [==============================] - 0s 23ms/sample - loss: 0.0148 - accuracy: 1.0000\n",
      "Epoch 29/50\n",
      "1/1 [==============================] - 0s 26ms/sample - loss: 0.0127 - accuracy: 1.0000\n",
      "Epoch 30/50\n",
      "1/1 [==============================] - 0s 23ms/sample - loss: 0.0113 - accuracy: 1.0000\n",
      "Epoch 31/50\n",
      "1/1 [==============================] - 0s 26ms/sample - loss: 0.0104 - accuracy: 1.0000\n",
      "Epoch 32/50\n",
      "1/1 [==============================] - 0s 27ms/sample - loss: 0.0098 - accuracy: 1.0000\n",
      "Epoch 33/50\n",
      "1/1 [==============================] - 0s 24ms/sample - loss: 0.0091 - accuracy: 1.0000\n",
      "Epoch 34/50\n",
      "1/1 [==============================] - 0s 26ms/sample - loss: 0.0082 - accuracy: 1.0000\n",
      "Epoch 35/50\n",
      "1/1 [==============================] - 0s 27ms/sample - loss: 0.0073 - accuracy: 1.0000\n",
      "Epoch 36/50\n",
      "1/1 [==============================] - 0s 21ms/sample - loss: 0.0066 - accuracy: 1.0000\n",
      "Epoch 37/50\n",
      "1/1 [==============================] - 0s 20ms/sample - loss: 0.0062 - accuracy: 1.0000\n",
      "Epoch 38/50\n",
      "1/1 [==============================] - 0s 29ms/sample - loss: 0.0059 - accuracy: 1.0000\n",
      "Epoch 39/50\n",
      "1/1 [==============================] - 0s 28ms/sample - loss: 0.0056 - accuracy: 1.0000\n",
      "Epoch 40/50\n",
      "1/1 [==============================] - 0s 24ms/sample - loss: 0.0053 - accuracy: 1.0000\n",
      "Epoch 41/50\n",
      "1/1 [==============================] - 0s 21ms/sample - loss: 0.0049 - accuracy: 1.0000\n",
      "Epoch 42/50\n",
      "1/1 [==============================] - 0s 27ms/sample - loss: 0.0046 - accuracy: 1.0000\n",
      "Epoch 43/50\n",
      "1/1 [==============================] - 0s 26ms/sample - loss: 0.0042 - accuracy: 1.0000\n",
      "Epoch 44/50\n",
      "1/1 [==============================] - 0s 22ms/sample - loss: 0.0040 - accuracy: 1.0000\n",
      "Epoch 45/50\n",
      "1/1 [==============================] - 0s 23ms/sample - loss: 0.0038 - accuracy: 1.0000\n",
      "Epoch 46/50\n",
      "1/1 [==============================] - 0s 28ms/sample - loss: 0.0037 - accuracy: 1.0000\n",
      "Epoch 47/50\n",
      "1/1 [==============================] - 0s 25ms/sample - loss: 0.0036 - accuracy: 1.0000\n",
      "Epoch 48/50\n",
      "1/1 [==============================] - 0s 30ms/sample - loss: 0.0035 - accuracy: 1.0000\n",
      "Epoch 49/50\n",
      "1/1 [==============================] - 0s 26ms/sample - loss: 0.0033 - accuracy: 1.0000\n",
      "Epoch 50/50\n",
      "1/1 [==============================] - 0s 25ms/sample - loss: 0.0032 - accuracy: 1.0000\n",
      "Model: \"sequential\"\n",
      "_________________________________________________________________\n",
      "Layer (type)                 Output Shape              Param #   \n",
      "=================================================================\n",
      "rnn (RNN)                    multiple                  220       \n",
      "_________________________________________________________________\n",
      "time_distributed (TimeDistri multiple                  30        \n",
      "=================================================================\n",
      "Total params: 250\n",
      "Trainable params: 250\n",
      "Non-trainable params: 0\n",
      "_________________________________________________________________\n"
     ]
    }
   ],
   "source": [
    "# train\n",
    "tf.model.fit(x_one_hot, y_one_hot, epochs=50)\n",
    "tf.model.summary()"
   ]
  },
  {
   "cell_type": "code",
   "execution_count": 12,
   "metadata": {},
   "outputs": [
    {
     "name": "stdout",
     "output_type": "stream",
     "text": [
      "[[4.3426928e-04 9.9604899e-01 3.0880559e-03 9.0987734e-05 3.3779474e-04]\n",
      " [9.9794632e-01 3.3800563e-04 1.1200754e-03 5.7831907e-04 1.7332346e-05]\n",
      " [5.3671619e-04 6.4185477e-04 9.9717027e-01 1.6493142e-03 1.7555558e-06]\n",
      " [2.3059658e-04 1.9364363e-06 1.7570471e-03 9.9797159e-01 3.8735448e-05]\n",
      " [2.1601694e-04 2.2593636e-05 6.1119779e-04 9.9558407e-01 3.5662330e-03]\n",
      " [8.0465898e-06 2.9220435e-04 7.2394937e-07 2.7863968e-03 9.9691260e-01]]\n",
      "\tPrediction str:  ihello\n"
     ]
    }
   ],
   "source": [
    "predictions = tf.model.predict(x_one_hot)\n",
    "for i, prediction in enumerate(predictions):\n",
    "    print(prediction)\n",
    "    # print char using argmax, dict\n",
    "    result_str = [idx2char[c] for c in np.argmax(prediction, axis=1)]\n",
    "    print(\"\\tPrediction str: \", ''.join(result_str))"
   ]
  }
 ],
 "metadata": {
  "kernelspec": {
   "display_name": "Python 3",
   "language": "python",
   "name": "python3"
  },
  "language_info": {
   "codemirror_mode": {
    "name": "ipython",
    "version": 3
   },
   "file_extension": ".py",
   "mimetype": "text/x-python",
   "name": "python",
   "nbconvert_exporter": "python",
   "pygments_lexer": "ipython3",
   "version": "3.7.4"
  }
 },
 "nbformat": 4,
 "nbformat_minor": 2
}
