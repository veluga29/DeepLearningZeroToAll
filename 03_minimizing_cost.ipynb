{
 "cells": [
  {
   "cell_type": "code",
   "execution_count": 1,
   "metadata": {},
   "outputs": [],
   "source": [
    "import numpy as np\n",
    "import tensorflow as tf\n",
    "import matplotlib.pyplot as plt"
   ]
  },
  {
   "cell_type": "code",
   "execution_count": 2,
   "metadata": {},
   "outputs": [],
   "source": [
    "x_train = [1, 2, 3]\n",
    "y_train = [1, 2, 3]"
   ]
  },
  {
   "cell_type": "code",
   "execution_count": 3,
   "metadata": {},
   "outputs": [],
   "source": [
    "tf.model = tf.keras.Sequential()\n",
    "tf.model.add(tf.keras.layers.Dense(units=1, input_dim=1))"
   ]
  },
  {
   "cell_type": "code",
   "execution_count": 4,
   "metadata": {},
   "outputs": [],
   "source": [
    "sgd = tf.keras.optimizers.SGD(lr=0.1)\n",
    "tf.model.compile(loss='mse', optimizer=sgd)"
   ]
  },
  {
   "cell_type": "code",
   "execution_count": 6,
   "metadata": {},
   "outputs": [
    {
     "name": "stdout",
     "output_type": "stream",
     "text": [
      "Model: \"sequential\"\n",
      "_________________________________________________________________\n",
      "Layer (type)                 Output Shape              Param #   \n",
      "=================================================================\n",
      "dense (Dense)                (None, 1)                 2         \n",
      "=================================================================\n",
      "Total params: 2\n",
      "Trainable params: 2\n",
      "Non-trainable params: 0\n",
      "_________________________________________________________________\n"
     ]
    }
   ],
   "source": [
    "tf.model.summary()"
   ]
  },
  {
   "cell_type": "code",
   "execution_count": 7,
   "metadata": {},
   "outputs": [
    {
     "name": "stdout",
     "output_type": "stream",
     "text": [
      "Train on 3 samples\n",
      "Epoch 1/100\n",
      "3/3 [==============================] - 1s 494ms/sample - loss: 0.5043\n",
      "Epoch 2/100\n",
      "3/3 [==============================] - 0s 7ms/sample - loss: 0.0080\n",
      "Epoch 3/100\n",
      "3/3 [==============================] - 0s 8ms/sample - loss: 0.0020\n",
      "Epoch 4/100\n",
      "3/3 [==============================] - 0s 9ms/sample - loss: 0.0018\n",
      "Epoch 5/100\n",
      "3/3 [==============================] - 0s 9ms/sample - loss: 0.0017\n",
      "Epoch 6/100\n",
      "3/3 [==============================] - 0s 9ms/sample - loss: 0.0017\n",
      "Epoch 7/100\n",
      "3/3 [==============================] - 0s 9ms/sample - loss: 0.0016\n",
      "Epoch 8/100\n",
      "3/3 [==============================] - 0s 8ms/sample - loss: 0.0015\n",
      "Epoch 9/100\n",
      "3/3 [==============================] - 0s 10ms/sample - loss: 0.0014\n",
      "Epoch 10/100\n",
      "3/3 [==============================] - 0s 9ms/sample - loss: 0.0014\n",
      "Epoch 11/100\n",
      "3/3 [==============================] - 0s 12ms/sample - loss: 0.0013\n",
      "Epoch 12/100\n",
      "3/3 [==============================] - 0s 10ms/sample - loss: 0.0012\n",
      "Epoch 13/100\n",
      "3/3 [==============================] - 0s 11ms/sample - loss: 0.0012\n",
      "Epoch 14/100\n",
      "3/3 [==============================] - 0s 12ms/sample - loss: 0.0011\n",
      "Epoch 15/100\n",
      "3/3 [==============================] - 0s 10ms/sample - loss: 0.0011\n",
      "Epoch 16/100\n",
      "3/3 [==============================] - 0s 12ms/sample - loss: 0.0010\n",
      "Epoch 17/100\n",
      "3/3 [==============================] - 0s 13ms/sample - loss: 9.6674e-04\n",
      "Epoch 18/100\n",
      "3/3 [==============================] - 0s 11ms/sample - loss: 9.2082e-04\n",
      "Epoch 19/100\n",
      "3/3 [==============================] - 0s 13ms/sample - loss: 8.7707e-04\n",
      "Epoch 20/100\n",
      "3/3 [==============================] - 0s 11ms/sample - loss: 8.3541e-04\n",
      "Epoch 21/100\n",
      "3/3 [==============================] - 0s 12ms/sample - loss: 7.9573e-04\n",
      "Epoch 22/100\n",
      "3/3 [==============================] - 0s 10ms/sample - loss: 7.5793e-04\n",
      "Epoch 23/100\n",
      "3/3 [==============================] - 0s 11ms/sample - loss: 7.2193e-04\n",
      "Epoch 24/100\n",
      "3/3 [==============================] - 0s 10ms/sample - loss: 6.8764e-04\n",
      "Epoch 25/100\n",
      "3/3 [==============================] - 0s 12ms/sample - loss: 6.5498e-04\n",
      "Epoch 26/100\n",
      "3/3 [==============================] - 0s 12ms/sample - loss: 6.2386e-04\n",
      "Epoch 27/100\n",
      "3/3 [==============================] - 0s 12ms/sample - loss: 5.9423e-04\n",
      "Epoch 28/100\n",
      "3/3 [==============================] - 0s 21ms/sample - loss: 5.6600e-04\n",
      "Epoch 29/100\n",
      "3/3 [==============================] - 0s 15ms/sample - loss: 5.3912e-04\n",
      "Epoch 30/100\n",
      "3/3 [==============================] - 0s 12ms/sample - loss: 5.1351e-04\n",
      "Epoch 31/100\n",
      "3/3 [==============================] - 0s 11ms/sample - loss: 4.8912e-04\n",
      "Epoch 32/100\n",
      "3/3 [==============================] - 0s 9ms/sample - loss: 4.6589e-04\n",
      "Epoch 33/100\n",
      "3/3 [==============================] - 0s 11ms/sample - loss: 4.4376e-04\n",
      "Epoch 34/100\n",
      "3/3 [==============================] - 0s 11ms/sample - loss: 4.2268e-04\n",
      "Epoch 35/100\n",
      "3/3 [==============================] - 0s 10ms/sample - loss: 4.0260e-04\n",
      "Epoch 36/100\n",
      "3/3 [==============================] - 0s 11ms/sample - loss: 3.8348e-04\n",
      "Epoch 37/100\n",
      "3/3 [==============================] - 0s 14ms/sample - loss: 3.6526e-04\n",
      "Epoch 38/100\n",
      "3/3 [==============================] - 0s 18ms/sample - loss: 3.4791e-04\n",
      "Epoch 39/100\n",
      "3/3 [==============================] - 0s 17ms/sample - loss: 3.3138e-04\n",
      "Epoch 40/100\n",
      "3/3 [==============================] - 0s 20ms/sample - loss: 3.1564e-04\n",
      "Epoch 41/100\n",
      "3/3 [==============================] - 0s 15ms/sample - loss: 3.0065e-04\n",
      "Epoch 42/100\n",
      "3/3 [==============================] - 0s 16ms/sample - loss: 2.8637e-04\n",
      "Epoch 43/100\n",
      "3/3 [==============================] - 0s 16ms/sample - loss: 2.7277e-04\n",
      "Epoch 44/100\n",
      "3/3 [==============================] - 0s 14ms/sample - loss: 2.5981e-04\n",
      "Epoch 45/100\n",
      "3/3 [==============================] - 0s 15ms/sample - loss: 2.4747e-04\n",
      "Epoch 46/100\n",
      "3/3 [==============================] - 0s 16ms/sample - loss: 2.3571e-04\n",
      "Epoch 47/100\n",
      "3/3 [==============================] - 0s 13ms/sample - loss: 2.2452e-04\n",
      "Epoch 48/100\n",
      "3/3 [==============================] - 0s 15ms/sample - loss: 2.1385e-04\n",
      "Epoch 49/100\n",
      "3/3 [==============================] - 0s 12ms/sample - loss: 2.0369e-04\n",
      "Epoch 50/100\n",
      "3/3 [==============================] - 0s 17ms/sample - loss: 1.9402e-04\n",
      "Epoch 51/100\n",
      "3/3 [==============================] - 0s 14ms/sample - loss: 1.8480e-04\n",
      "Epoch 52/100\n",
      "3/3 [==============================] - 0s 14ms/sample - loss: 1.7602e-04\n",
      "Epoch 53/100\n",
      "3/3 [==============================] - 0s 13ms/sample - loss: 1.6766e-04\n",
      "Epoch 54/100\n",
      "3/3 [==============================] - 0s 14ms/sample - loss: 1.5970e-04\n",
      "Epoch 55/100\n",
      "3/3 [==============================] - 0s 14ms/sample - loss: 1.5211e-04\n",
      "Epoch 56/100\n",
      "3/3 [==============================] - 0s 13ms/sample - loss: 1.4489e-04\n",
      "Epoch 57/100\n",
      "3/3 [==============================] - 0s 10ms/sample - loss: 1.3800e-04\n",
      "Epoch 58/100\n",
      "3/3 [==============================] - 0s 9ms/sample - loss: 1.3145e-04\n",
      "Epoch 59/100\n",
      "3/3 [==============================] - 0s 11ms/sample - loss: 1.2521e-04\n",
      "Epoch 60/100\n",
      "3/3 [==============================] - 0s 14ms/sample - loss: 1.1926e-04\n",
      "Epoch 61/100\n",
      "3/3 [==============================] - 0s 10ms/sample - loss: 1.1359e-04\n",
      "Epoch 62/100\n",
      "3/3 [==============================] - 0s 12ms/sample - loss: 1.0820e-04\n",
      "Epoch 63/100\n",
      "3/3 [==============================] - 0s 11ms/sample - loss: 1.0306e-04\n",
      "Epoch 64/100\n",
      "3/3 [==============================] - 0s 9ms/sample - loss: 9.8163e-05\n",
      "Epoch 65/100\n",
      "3/3 [==============================] - 0s 10ms/sample - loss: 9.3501e-05\n",
      "Epoch 66/100\n",
      "3/3 [==============================] - 0s 21ms/sample - loss: 8.9059e-05\n",
      "Epoch 67/100\n",
      "3/3 [==============================] - 0s 14ms/sample - loss: 8.4828e-05\n",
      "Epoch 68/100\n",
      "3/3 [==============================] - 0s 12ms/sample - loss: 8.0800e-05\n",
      "Epoch 69/100\n",
      "3/3 [==============================] - 0s 12ms/sample - loss: 7.6961e-05\n",
      "Epoch 70/100\n",
      "3/3 [==============================] - 0s 12ms/sample - loss: 7.3306e-05\n",
      "Epoch 71/100\n",
      "3/3 [==============================] - 0s 12ms/sample - loss: 6.9822e-05\n",
      "Epoch 72/100\n",
      "3/3 [==============================] - 0s 12ms/sample - loss: 6.6506e-05\n",
      "Epoch 73/100\n",
      "3/3 [==============================] - 0s 12ms/sample - loss: 6.3348e-05\n",
      "Epoch 74/100\n",
      "3/3 [==============================] - 0s 10ms/sample - loss: 6.0339e-05\n",
      "Epoch 75/100\n",
      "3/3 [==============================] - 0s 11ms/sample - loss: 5.7472e-05\n",
      "Epoch 76/100\n",
      "3/3 [==============================] - 0s 11ms/sample - loss: 5.4743e-05\n",
      "Epoch 77/100\n",
      "3/3 [==============================] - 0s 10ms/sample - loss: 5.2142e-05\n",
      "Epoch 78/100\n",
      "3/3 [==============================] - 0s 10ms/sample - loss: 4.9666e-05\n",
      "Epoch 79/100\n",
      "3/3 [==============================] - 0s 12ms/sample - loss: 4.7306e-05\n",
      "Epoch 80/100\n",
      "3/3 [==============================] - 0s 11ms/sample - loss: 4.5059e-05\n",
      "Epoch 81/100\n",
      "3/3 [==============================] - 0s 10ms/sample - loss: 4.2917e-05\n",
      "Epoch 82/100\n",
      "3/3 [==============================] - 0s 35ms/sample - loss: 4.0880e-05\n",
      "Epoch 83/100\n",
      "3/3 [==============================] - 0s 12ms/sample - loss: 3.8939e-05\n",
      "Epoch 84/100\n",
      "3/3 [==============================] - 0s 12ms/sample - loss: 3.7089e-05\n",
      "Epoch 85/100\n",
      "3/3 [==============================] - 0s 11ms/sample - loss: 3.5327e-05\n",
      "Epoch 86/100\n",
      "3/3 [==============================] - 0s 10ms/sample - loss: 3.3649e-05\n",
      "Epoch 87/100\n",
      "3/3 [==============================] - 0s 13ms/sample - loss: 3.2051e-05\n",
      "Epoch 88/100\n",
      "3/3 [==============================] - 0s 13ms/sample - loss: 3.0527e-05\n",
      "Epoch 89/100\n",
      "3/3 [==============================] - 0s 11ms/sample - loss: 2.9078e-05\n",
      "Epoch 90/100\n",
      "3/3 [==============================] - 0s 12ms/sample - loss: 2.7697e-05\n",
      "Epoch 91/100\n",
      "3/3 [==============================] - 0s 12ms/sample - loss: 2.6381e-05\n",
      "Epoch 92/100\n",
      "3/3 [==============================] - 0s 12ms/sample - loss: 2.5128e-05\n",
      "Epoch 93/100\n",
      "3/3 [==============================] - 0s 9ms/sample - loss: 2.3934e-05\n",
      "Epoch 94/100\n",
      "3/3 [==============================] - 0s 10ms/sample - loss: 2.2797e-05\n",
      "Epoch 95/100\n",
      "3/3 [==============================] - 0s 11ms/sample - loss: 2.1715e-05\n",
      "Epoch 96/100\n",
      "3/3 [==============================] - 0s 12ms/sample - loss: 2.0683e-05\n",
      "Epoch 97/100\n"
     ]
    },
    {
     "name": "stdout",
     "output_type": "stream",
     "text": [
      "3/3 [==============================] - 0s 11ms/sample - loss: 1.9701e-05\n",
      "Epoch 98/100\n",
      "3/3 [==============================] - 0s 10ms/sample - loss: 1.8766e-05\n",
      "Epoch 99/100\n",
      "3/3 [==============================] - 0s 13ms/sample - loss: 1.7874e-05\n",
      "Epoch 100/100\n",
      "3/3 [==============================] - 0s 13ms/sample - loss: 1.7025e-05\n"
     ]
    }
   ],
   "source": [
    "history = tf.model.fit(x_train, y_train, epochs=100)"
   ]
  },
  {
   "cell_type": "code",
   "execution_count": 8,
   "metadata": {},
   "outputs": [
    {
     "name": "stdout",
     "output_type": "stream",
     "text": [
      "[[5.012753]\n",
      " [4.008076]]\n"
     ]
    }
   ],
   "source": [
    "y_predict = tf.model.predict(np.array([5, 4]))\n",
    "print(y_predict)"
   ]
  },
  {
   "cell_type": "code",
   "execution_count": 9,
   "metadata": {},
   "outputs": [
    {
     "data": {
      "image/png": "[encoded data removed]",
      "text/plain": [
       "<Figure size 432x288 with 1 Axes>"
      ]
     },
     "metadata": {
      "needs_background": "light"
     },
     "output_type": "display_data"
    }
   ],
   "source": [
    "plt.plot(history.history['loss'])\n",
    "plt.title('Model loss')\n",
    "plt.ylabel('Loss')\n",
    "plt.xlabel('Epoch')\n",
    "plt.legend(['Train', 'Test'], loc='upper left')\n",
    "plt.show()"
   ]
  }
 ],
 "metadata": {
  "kernelspec": {
   "display_name": "Python 3",
   "language": "python",
   "name": "python3"
  },
  "language_info": {
   "codemirror_mode": {
    "name": "ipython",
    "version": 3
   },
   "file_extension": ".py",
   "mimetype": "text/x-python",
   "name": "python",
   "nbconvert_exporter": "python",
   "pygments_lexer": "ipython3",
   "version": "3.7.4"
  }
 },
 "nbformat": 4,
 "nbformat_minor": 2
}
